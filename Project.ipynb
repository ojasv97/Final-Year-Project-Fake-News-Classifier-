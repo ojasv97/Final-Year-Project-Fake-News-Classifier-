{
 "cells": [
  {
   "cell_type": "code",
   "execution_count": 1,
   "metadata": {},
   "outputs": [
    {
     "name": "stderr",
     "output_type": "stream",
     "text": [
      "Using TensorFlow backend.\n"
     ]
    }
   ],
   "source": [
    "import pandas as pd\n",
    "import numpy as np\n",
    "from sklearn.model_selection import train_test_split\n",
    "from sklearn.feature_extraction.text import TfidfVectorizer, CountVectorizer\n",
    "import matplotlib.pyplot as plt\n",
    "import itertools\n",
    "from sklearn import svm\n",
    "from sklearn.naive_bayes import MultinomialNB\n",
    "from sklearn.ensemble import RandomForestClassifier, GradientBoostingClassifier\n",
    "from sklearn import metrics\n",
    "import spacy\n",
    "from sklearn.feature_extraction.stop_words import ENGLISH_STOP_WORDS\n",
    "import string\n",
    "import re\n",
    "import nltk\n",
    "import collections\n",
    "from nltk.corpus import stopwords\n",
    "from sklearn.feature_extraction import DictVectorizer\n",
    "from sklearn.pipeline import Pipeline, FeatureUnion\n",
    "from keras.preprocessing.text import Tokenizer\n",
    "from keras.preprocessing.sequence import pad_sequences\n",
    "import pickle\n",
    "import scipy.sparse as sp"
   ]
  },
  {
   "cell_type": "code",
   "execution_count": 7,
   "metadata": {},
   "outputs": [
    {
     "data": {
      "text/html": [
       "<div>\n",
       "<style scoped>\n",
       "    .dataframe tbody tr th:only-of-type {\n",
       "        vertical-align: middle;\n",
       "    }\n",
       "\n",
       "    .dataframe tbody tr th {\n",
       "        vertical-align: top;\n",
       "    }\n",
       "\n",
       "    .dataframe thead th {\n",
       "        text-align: right;\n",
       "    }\n",
       "</style>\n",
       "<table border=\"1\" class=\"dataframe\">\n",
       "  <thead>\n",
       "    <tr style=\"text-align: right;\">\n",
       "      <th></th>\n",
       "      <th>URLs</th>\n",
       "      <th>Headline</th>\n",
       "      <th>Body</th>\n",
       "      <th>Label</th>\n",
       "    </tr>\n",
       "  </thead>\n",
       "  <tbody>\n",
       "    <tr>\n",
       "      <td>0</td>\n",
       "      <td>http://www.bbc.com/news/world-us-canada-414191...</td>\n",
       "      <td>Four ways Bob Corker skewered Donald Trump</td>\n",
       "      <td>Image copyright Getty Images\\nOn Sunday mornin...</td>\n",
       "      <td>FAKE</td>\n",
       "    </tr>\n",
       "    <tr>\n",
       "      <td>1</td>\n",
       "      <td>https://www.reuters.com/article/us-filmfestiva...</td>\n",
       "      <td>Linklater's war veteran comedy speaks to moder...</td>\n",
       "      <td>LONDON (Reuters) - “Last Flag Flying”, a comed...</td>\n",
       "      <td>FAKE</td>\n",
       "    </tr>\n",
       "    <tr>\n",
       "      <td>2</td>\n",
       "      <td>https://www.nytimes.com/2017/10/09/us/politics...</td>\n",
       "      <td>Trump’s Fight With Corker Jeopardizes His Legi...</td>\n",
       "      <td>The feud broke into public view last week when...</td>\n",
       "      <td>FAKE</td>\n",
       "    </tr>\n",
       "    <tr>\n",
       "      <td>3</td>\n",
       "      <td>https://www.reuters.com/article/us-mexico-oil-...</td>\n",
       "      <td>Egypt's Cheiron wins tie-up with Pemex for Mex...</td>\n",
       "      <td>MEXICO CITY (Reuters) - Egypt’s Cheiron Holdin...</td>\n",
       "      <td>FAKE</td>\n",
       "    </tr>\n",
       "    <tr>\n",
       "      <td>4</td>\n",
       "      <td>http://www.cnn.com/videos/cnnmoney/2017/10/08/...</td>\n",
       "      <td>Jason Aldean opens 'SNL' with Vegas tribute</td>\n",
       "      <td>Country singer Jason Aldean, who was performin...</td>\n",
       "      <td>FAKE</td>\n",
       "    </tr>\n",
       "  </tbody>\n",
       "</table>\n",
       "</div>"
      ],
      "text/plain": [
       "                                                URLs  \\\n",
       "0  http://www.bbc.com/news/world-us-canada-414191...   \n",
       "1  https://www.reuters.com/article/us-filmfestiva...   \n",
       "2  https://www.nytimes.com/2017/10/09/us/politics...   \n",
       "3  https://www.reuters.com/article/us-mexico-oil-...   \n",
       "4  http://www.cnn.com/videos/cnnmoney/2017/10/08/...   \n",
       "\n",
       "                                            Headline  \\\n",
       "0         Four ways Bob Corker skewered Donald Trump   \n",
       "1  Linklater's war veteran comedy speaks to moder...   \n",
       "2  Trump’s Fight With Corker Jeopardizes His Legi...   \n",
       "3  Egypt's Cheiron wins tie-up with Pemex for Mex...   \n",
       "4        Jason Aldean opens 'SNL' with Vegas tribute   \n",
       "\n",
       "                                                Body Label  \n",
       "0  Image copyright Getty Images\\nOn Sunday mornin...  FAKE  \n",
       "1  LONDON (Reuters) - “Last Flag Flying”, a comed...  FAKE  \n",
       "2  The feud broke into public view last week when...  FAKE  \n",
       "3  MEXICO CITY (Reuters) - Egypt’s Cheiron Holdin...  FAKE  \n",
       "4  Country singer Jason Aldean, who was performin...  FAKE  "
      ]
     },
     "execution_count": 7,
     "metadata": {},
     "output_type": "execute_result"
    }
   ],
   "source": [
    "#Loading the first dataset\n",
    "df = pd.read_csv(r'C:\\Users\\ojas\\Desktop\\Project Final Year\\Dataset\\data.csv')\n",
    "df.loc[df['Label']== 0, 'Label'] = 'REAL'\n",
    "df.loc[df['Label']== 1, 'Label'] = 'FAKE'\n",
    "df.columns\n",
    "df['Label'].value_counts()\n",
    "df.head()"
   ]
  },
  {
   "cell_type": "code",
   "execution_count": 8,
   "metadata": {},
   "outputs": [
    {
     "data": {
      "text/plain": [
       "REAL    2137\n",
       "FAKE    1872\n",
       "Name: Label, dtype: int64"
      ]
     },
     "execution_count": 8,
     "metadata": {},
     "output_type": "execute_result"
    }
   ],
   "source": [
    "#Dropping the column URLs from the table\n",
    "df = df[['Headline', 'Body', 'Label']]\n",
    "df.columns = ['Headline', 'Body', 'Label']\n",
    "df['Label'].value_counts()"
   ]
  },
  {
   "cell_type": "code",
   "execution_count": 9,
   "metadata": {},
   "outputs": [
    {
     "data": {
      "text/plain": [
       "Index(['uuid', 'ord_in_thread', 'author', 'published', 'title', 'text',\n",
       "       'language', 'crawled', 'site_url', 'country', 'domain_rank',\n",
       "       'thread_title', 'spam_score', 'main_img_url', 'replies_count',\n",
       "       'participants_count', 'likes', 'comments', 'shares', 'type'],\n",
       "      dtype='object')"
      ]
     },
     "execution_count": 9,
     "metadata": {},
     "output_type": "execute_result"
    }
   ],
   "source": [
    "#Loading the 2nd dataset\n",
    "df1 = pd.read_csv(r'C:\\Users\\ojas\\Desktop\\Project Final Year\\Dataset\\fake.csv')\n",
    "df1.columns\n",
    "df1['type'].value_counts()\n",
    "df1 = df1.loc[df1['type']=='fake']\n",
    "df1.loc[df1['type']== 'fake', 'type'] = 'FAKE'\n",
    "df1.columns"
   ]
  },
  {
   "cell_type": "code",
   "execution_count": 10,
   "metadata": {},
   "outputs": [
    {
     "data": {
      "text/plain": [
       "FAKE    19\n",
       "Name: Label, dtype: int64"
      ]
     },
     "execution_count": 10,
     "metadata": {},
     "output_type": "execute_result"
    }
   ],
   "source": [
    "#Selecting the 3 required columns and remvoing the rest.\n",
    "df1 = df1[['title','text','type']]\n",
    "df1.columns = ['Headline', 'Body', 'Label']\n",
    "df1['Label'].value_counts()"
   ]
  },
  {
   "cell_type": "code",
   "execution_count": 11,
   "metadata": {},
   "outputs": [
    {
     "data": {
      "text/plain": [
       "Index(['Unnamed: 0', 'title', 'text', 'label'], dtype='object')"
      ]
     },
     "execution_count": 11,
     "metadata": {},
     "output_type": "execute_result"
    }
   ],
   "source": [
    "#Loading the 3rd dataset.\n",
    "df2 = pd.read_csv(r'C:\\Users\\ojas\\Desktop\\Project Final Year\\Dataset\\fake_or_real_news.csv')\n",
    "df2.columns"
   ]
  },
  {
   "cell_type": "code",
   "execution_count": 12,
   "metadata": {},
   "outputs": [
    {
     "data": {
      "text/plain": [
       "REAL    3171\n",
       "FAKE    3164\n",
       "Name: Label, dtype: int64"
      ]
     },
     "execution_count": 12,
     "metadata": {},
     "output_type": "execute_result"
    }
   ],
   "source": [
    "#Selecting the 3 required columns and remvoing the rest.\n",
    "df2 = df2[['title','text','label']]\n",
    "df2.columns = ['Headline', 'Body', 'Label']\n",
    "df2['Label'].value_counts()"
   ]
  },
  {
   "cell_type": "code",
   "execution_count": 13,
   "metadata": {},
   "outputs": [
    {
     "data": {
      "text/plain": [
       "Index(['id', 'title', 'author', 'text', 'label'], dtype='object')"
      ]
     },
     "execution_count": 13,
     "metadata": {},
     "output_type": "execute_result"
    }
   ],
   "source": [
    "#Loading the 4th dataset.\n",
    "df3 = pd.read_csv(r'C:\\Users\\ojas\\Desktop\\Project Final Year\\Dataset\\train.csv')\n",
    "df3.columns"
   ]
  },
  {
   "cell_type": "code",
   "execution_count": 14,
   "metadata": {},
   "outputs": [
    {
     "data": {
      "text/plain": [
       "FAKE    10413\n",
       "REAL    10387\n",
       "Name: Label, dtype: int64"
      ]
     },
     "execution_count": 14,
     "metadata": {},
     "output_type": "execute_result"
    }
   ],
   "source": [
    "#Selecting the 3 required columns and remvoing the rest.\n",
    "df3 = df3[['title','text','label']]\n",
    "df3.columns = ['Headline', 'Body', 'Label']\n",
    "df3.loc[df3['Label']== 0, 'Label'] = 'REAL'\n",
    "df3.loc[df3['Label']== 1, 'Label'] = 'FAKE'\n",
    "df3.columns\n",
    "df3['Label'].value_counts()"
   ]
  },
  {
   "cell_type": "code",
   "execution_count": 15,
   "metadata": {},
   "outputs": [],
   "source": [
    "#Appending df1,df2,df3 to df so that we can get a bigger dataset which will eventually improve our model.\n",
    "df = df.append(df1, ignore_index = True)\n",
    "df = df.append(df2, ignore_index = True)\n",
    "df = df.append(df3, ignore_index = True)"
   ]
  },
  {
   "cell_type": "code",
   "execution_count": 16,
   "metadata": {},
   "outputs": [
    {
     "data": {
      "text/html": [
       "<div>\n",
       "<style scoped>\n",
       "    .dataframe tbody tr th:only-of-type {\n",
       "        vertical-align: middle;\n",
       "    }\n",
       "\n",
       "    .dataframe tbody tr th {\n",
       "        vertical-align: top;\n",
       "    }\n",
       "\n",
       "    .dataframe thead th {\n",
       "        text-align: right;\n",
       "    }\n",
       "</style>\n",
       "<table border=\"1\" class=\"dataframe\">\n",
       "  <thead>\n",
       "    <tr style=\"text-align: right;\">\n",
       "      <th></th>\n",
       "      <th>Headline</th>\n",
       "      <th>Body</th>\n",
       "      <th>Label</th>\n",
       "    </tr>\n",
       "  </thead>\n",
       "  <tbody>\n",
       "    <tr>\n",
       "      <td>0</td>\n",
       "      <td>Four ways Bob Corker skewered Donald Trump</td>\n",
       "      <td>Image copyright Getty Images\\nOn Sunday mornin...</td>\n",
       "      <td>FAKE</td>\n",
       "    </tr>\n",
       "    <tr>\n",
       "      <td>1</td>\n",
       "      <td>Linklater's war veteran comedy speaks to moder...</td>\n",
       "      <td>LONDON (Reuters) - “Last Flag Flying”, a comed...</td>\n",
       "      <td>FAKE</td>\n",
       "    </tr>\n",
       "    <tr>\n",
       "      <td>2</td>\n",
       "      <td>Trump’s Fight With Corker Jeopardizes His Legi...</td>\n",
       "      <td>The feud broke into public view last week when...</td>\n",
       "      <td>FAKE</td>\n",
       "    </tr>\n",
       "    <tr>\n",
       "      <td>3</td>\n",
       "      <td>Egypt's Cheiron wins tie-up with Pemex for Mex...</td>\n",
       "      <td>MEXICO CITY (Reuters) - Egypt’s Cheiron Holdin...</td>\n",
       "      <td>FAKE</td>\n",
       "    </tr>\n",
       "    <tr>\n",
       "      <td>4</td>\n",
       "      <td>Jason Aldean opens 'SNL' with Vegas tribute</td>\n",
       "      <td>Country singer Jason Aldean, who was performin...</td>\n",
       "      <td>FAKE</td>\n",
       "    </tr>\n",
       "    <tr>\n",
       "      <td>...</td>\n",
       "      <td>...</td>\n",
       "      <td>...</td>\n",
       "      <td>...</td>\n",
       "    </tr>\n",
       "    <tr>\n",
       "      <td>31157</td>\n",
       "      <td>Trump: Putin ’Very Smart’ to Not Retaliate ove...</td>\n",
       "      <td>Donald Trump took to Twitter Friday to praise ...</td>\n",
       "      <td>REAL</td>\n",
       "    </tr>\n",
       "    <tr>\n",
       "      <td>31158</td>\n",
       "      <td>Rapper T.I.: Trump a ’Poster Child For White S...</td>\n",
       "      <td>Rapper T. I. unloaded on black celebrities who...</td>\n",
       "      <td>REAL</td>\n",
       "    </tr>\n",
       "    <tr>\n",
       "      <td>31159</td>\n",
       "      <td>N.F.L. Playoffs: Schedule, Matchups and Odds -...</td>\n",
       "      <td>When the Green Bay Packers lost to the Washing...</td>\n",
       "      <td>REAL</td>\n",
       "    </tr>\n",
       "    <tr>\n",
       "      <td>31160</td>\n",
       "      <td>Macy’s Is Said to Receive Takeover Approach by...</td>\n",
       "      <td>The Macy’s of today grew from the union of sev...</td>\n",
       "      <td>REAL</td>\n",
       "    </tr>\n",
       "    <tr>\n",
       "      <td>31162</td>\n",
       "      <td>What Keeps the F-35 Alive</td>\n",
       "      <td>David Swanson is an author, activist, journa...</td>\n",
       "      <td>FAKE</td>\n",
       "    </tr>\n",
       "  </tbody>\n",
       "</table>\n",
       "<p>27865 rows × 3 columns</p>\n",
       "</div>"
      ],
      "text/plain": [
       "                                                Headline  \\\n",
       "0             Four ways Bob Corker skewered Donald Trump   \n",
       "1      Linklater's war veteran comedy speaks to moder...   \n",
       "2      Trump’s Fight With Corker Jeopardizes His Legi...   \n",
       "3      Egypt's Cheiron wins tie-up with Pemex for Mex...   \n",
       "4            Jason Aldean opens 'SNL' with Vegas tribute   \n",
       "...                                                  ...   \n",
       "31157  Trump: Putin ’Very Smart’ to Not Retaliate ove...   \n",
       "31158  Rapper T.I.: Trump a ’Poster Child For White S...   \n",
       "31159  N.F.L. Playoffs: Schedule, Matchups and Odds -...   \n",
       "31160  Macy’s Is Said to Receive Takeover Approach by...   \n",
       "31162                          What Keeps the F-35 Alive   \n",
       "\n",
       "                                                    Body Label  \n",
       "0      Image copyright Getty Images\\nOn Sunday mornin...  FAKE  \n",
       "1      LONDON (Reuters) - “Last Flag Flying”, a comed...  FAKE  \n",
       "2      The feud broke into public view last week when...  FAKE  \n",
       "3      MEXICO CITY (Reuters) - Egypt’s Cheiron Holdin...  FAKE  \n",
       "4      Country singer Jason Aldean, who was performin...  FAKE  \n",
       "...                                                  ...   ...  \n",
       "31157  Donald Trump took to Twitter Friday to praise ...  REAL  \n",
       "31158  Rapper T. I. unloaded on black celebrities who...  REAL  \n",
       "31159  When the Green Bay Packers lost to the Washing...  REAL  \n",
       "31160  The Macy’s of today grew from the union of sev...  REAL  \n",
       "31162    David Swanson is an author, activist, journa...  FAKE  \n",
       "\n",
       "[27865 rows x 3 columns]"
      ]
     },
     "execution_count": 16,
     "metadata": {},
     "output_type": "execute_result"
    }
   ],
   "source": [
    "#Removing the duplicate news and the news with SMALL body because they will degrade the performance of our models.\n",
    "df = df.drop_duplicates()\n",
    "cnt = 0\n",
    "ind = []\n",
    "for art in df['Body']:\n",
    "    if len(str(art)) < 10:\n",
    "        ind.append(cnt)\n",
    "    cnt+=1\n",
    "df = df.drop(df.index[ind])\n",
    "df"
   ]
  },
  {
   "cell_type": "code",
   "execution_count": 17,
   "metadata": {},
   "outputs": [
    {
     "data": {
      "text/plain": [
       "REAL    15343\n",
       "FAKE    12522\n",
       "Name: Label, dtype: int64"
      ]
     },
     "execution_count": 17,
     "metadata": {},
     "output_type": "execute_result"
    }
   ],
   "source": [
    "#Total classified records in our dataset\n",
    "df['Label'].value_counts()"
   ]
  },
  {
   "cell_type": "code",
   "execution_count": 18,
   "metadata": {},
   "outputs": [
    {
     "data": {
      "text/plain": [
       "<matplotlib.axes._subplots.AxesSubplot at 0x27ebaf3d388>"
      ]
     },
     "execution_count": 18,
     "metadata": {},
     "output_type": "execute_result"
    },
    {
     "data": {
      "image/png": "[encoded data removed]",
      "text/plain": [
       "<Figure size 432x288 with 1 Axes>"
      ]
     },
     "metadata": {
      "needs_background": "light"
     },
     "output_type": "display_data"
    }
   ],
   "source": [
    "#Bar graph\n",
    "df['Label'].value_counts().plot(kind = 'bar')"
   ]
  },
  {
   "cell_type": "code",
   "execution_count": 19,
   "metadata": {},
   "outputs": [
    {
     "data": {
      "text/plain": [
       "count    27865.000000\n",
       "mean        69.775381\n",
       "std         24.885773\n",
       "min          1.000000\n",
       "25%         55.000000\n",
       "50%         70.000000\n",
       "75%         85.000000\n",
       "max        653.000000\n",
       "Name: headline_length, dtype: float64"
      ]
     },
     "execution_count": 19,
     "metadata": {},
     "output_type": "execute_result"
    }
   ],
   "source": [
    "#Calculating headline length and its other statistics.\n",
    "df['headline_length'] = [len(str(a)) for a in df['Headline']]\n",
    "df['headline_length'].describe()"
   ]
  },
  {
   "cell_type": "code",
   "execution_count": 20,
   "metadata": {},
   "outputs": [
    {
     "data": {
      "text/plain": [
       "count     27865.000000\n",
       "mean       4429.890903\n",
       "std        4854.862554\n",
       "min          10.000000\n",
       "25%        1589.000000\n",
       "50%        3348.000000\n",
       "75%        6106.000000\n",
       "max      142961.000000\n",
       "Name: body_length, dtype: float64"
      ]
     },
     "execution_count": 20,
     "metadata": {},
     "output_type": "execute_result"
    }
   ],
   "source": [
    "#Calculating body length and its other statistics.\n",
    "df['body_length'] = [len(a) for a in df['Body']]\n",
    "df['body_length'].describe()"
   ]
  },
  {
   "cell_type": "code",
   "execution_count": 21,
   "metadata": {},
   "outputs": [
    {
     "data": {
      "text/html": [
       "<div>\n",
       "<style scoped>\n",
       "    .dataframe tbody tr th:only-of-type {\n",
       "        vertical-align: middle;\n",
       "    }\n",
       "\n",
       "    .dataframe tbody tr th {\n",
       "        vertical-align: top;\n",
       "    }\n",
       "\n",
       "    .dataframe thead th {\n",
       "        text-align: right;\n",
       "    }\n",
       "</style>\n",
       "<table border=\"1\" class=\"dataframe\">\n",
       "  <thead>\n",
       "    <tr style=\"text-align: right;\">\n",
       "      <th></th>\n",
       "      <th>Headline</th>\n",
       "      <th>Body</th>\n",
       "      <th>Label</th>\n",
       "      <th>headline_length</th>\n",
       "      <th>body_length</th>\n",
       "    </tr>\n",
       "  </thead>\n",
       "  <tbody>\n",
       "    <tr>\n",
       "      <td>0</td>\n",
       "      <td>Four ways Bob Corker skewered Donald Trump</td>\n",
       "      <td>Image copyright Getty Images\\nOn Sunday mornin...</td>\n",
       "      <td>FAKE</td>\n",
       "      <td>42</td>\n",
       "      <td>6412</td>\n",
       "    </tr>\n",
       "    <tr>\n",
       "      <td>1</td>\n",
       "      <td>Linklater's war veteran comedy speaks to moder...</td>\n",
       "      <td>LONDON (Reuters) - “Last Flag Flying”, a comed...</td>\n",
       "      <td>FAKE</td>\n",
       "      <td>66</td>\n",
       "      <td>3325</td>\n",
       "    </tr>\n",
       "    <tr>\n",
       "      <td>2</td>\n",
       "      <td>Trump’s Fight With Corker Jeopardizes His Legi...</td>\n",
       "      <td>The feud broke into public view last week when...</td>\n",
       "      <td>FAKE</td>\n",
       "      <td>60</td>\n",
       "      <td>6580</td>\n",
       "    </tr>\n",
       "    <tr>\n",
       "      <td>3</td>\n",
       "      <td>Egypt's Cheiron wins tie-up with Pemex for Mex...</td>\n",
       "      <td>MEXICO CITY (Reuters) - Egypt’s Cheiron Holdin...</td>\n",
       "      <td>FAKE</td>\n",
       "      <td>68</td>\n",
       "      <td>630</td>\n",
       "    </tr>\n",
       "    <tr>\n",
       "      <td>4</td>\n",
       "      <td>Jason Aldean opens 'SNL' with Vegas tribute</td>\n",
       "      <td>Country singer Jason Aldean, who was performin...</td>\n",
       "      <td>FAKE</td>\n",
       "      <td>43</td>\n",
       "      <td>213</td>\n",
       "    </tr>\n",
       "  </tbody>\n",
       "</table>\n",
       "</div>"
      ],
      "text/plain": [
       "                                            Headline  \\\n",
       "0         Four ways Bob Corker skewered Donald Trump   \n",
       "1  Linklater's war veteran comedy speaks to moder...   \n",
       "2  Trump’s Fight With Corker Jeopardizes His Legi...   \n",
       "3  Egypt's Cheiron wins tie-up with Pemex for Mex...   \n",
       "4        Jason Aldean opens 'SNL' with Vegas tribute   \n",
       "\n",
       "                                                Body Label  headline_length  \\\n",
       "0  Image copyright Getty Images\\nOn Sunday mornin...  FAKE               42   \n",
       "1  LONDON (Reuters) - “Last Flag Flying”, a comed...  FAKE               66   \n",
       "2  The feud broke into public view last week when...  FAKE               60   \n",
       "3  MEXICO CITY (Reuters) - Egypt’s Cheiron Holdin...  FAKE               68   \n",
       "4  Country singer Jason Aldean, who was performin...  FAKE               43   \n",
       "\n",
       "   body_length  \n",
       "0         6412  \n",
       "1         3325  \n",
       "2         6580  \n",
       "3          630  \n",
       "4          213  "
      ]
     },
     "execution_count": 21,
     "metadata": {},
     "output_type": "execute_result"
    }
   ],
   "source": [
    "df.head()"
   ]
  },
  {
   "cell_type": "code",
   "execution_count": 22,
   "metadata": {},
   "outputs": [],
   "source": [
    "#Merging HEADLINE and BODY column to make it a single feature to train our model.\n",
    "df[\"Text\"] = df[\"Headline\"].map(str) + df[\"Body\"]\n",
    "y = df.Label\n",
    "y = y.astype('str')"
   ]
  },
  {
   "cell_type": "code",
   "execution_count": 23,
   "metadata": {},
   "outputs": [],
   "source": [
    "#Creating the TESTING DATASET and TRAINING DATASET.\n",
    "X_train, X_test, Y_train, Y_test = train_test_split(df['Text'],y, test_size=0.33)"
   ]
  },
  {
   "cell_type": "code",
   "execution_count": 24,
   "metadata": {},
   "outputs": [
    {
     "data": {
      "text/plain": [
       "6639     Mitch McConnell's mission to keep the GOP majo...\n",
       "19302    VIDEO : Ann Coulter Gloats About Being Right W...\n",
       "21776    Samantha Bee: Who Gives A F**K About Trump, Th...\n",
       "22519    Report: Saudis Quietly Backing UN Peace Plan f...\n",
       "1447     VW to develop electric trucks in $1.7 billion ...\n",
       "Name: Text, dtype: object"
      ]
     },
     "execution_count": 24,
     "metadata": {},
     "output_type": "execute_result"
    }
   ],
   "source": [
    "X_train.head()"
   ]
  },
  {
   "cell_type": "code",
   "execution_count": 25,
   "metadata": {},
   "outputs": [],
   "source": [
    "#Tf-idf Bigrams\n",
    "#Initialize the `tfidf_vectorizer` \n",
    "tfidf_vectorizer = TfidfVectorizer(stop_words='english', ngram_range = (2,2))\n",
    "\n",
    "# Fit and transform the training data \n",
    "tfidf1_train = tfidf_vectorizer.fit_transform(X_train.astype('str')) \n",
    "\n",
    "# Transform the test set \n",
    "tfidf1_test = tfidf_vectorizer.transform(X_test.astype('str'))\n",
    "\n",
    "#We use pickle so that we cana again use the model without running it again. Pickle stores the model\n",
    "#in memory which can be used later. Need to be used once to create and store the model.\n",
    "\n",
    "pickle.dump(tfidf1_train, open(\"tfidf1_train.pickle\", \"wb\"))\n",
    "pickle.dump(tfidf1_test, open(\"tfidf1_test.pickle\", \"wb\"))\n",
    "pickle.dump(tfidf_vectorizer, open(\"tfidf_vectorizer\",\"wb\"))"
   ]
  },
  {
   "cell_type": "code",
   "execution_count": 26,
   "metadata": {},
   "outputs": [
    {
     "name": "stdout",
     "output_type": "stream",
     "text": [
      "<class 'scipy.sparse.csr.csr_matrix'>\n"
     ]
    }
   ],
   "source": [
    "print(type(tfidf1_train)) #The data structure used for storing vectors in tfidfvectorizer is\n",
    "                          #Compressed sparse matrix to reduce memory usage."
   ]
  },
  {
   "cell_type": "code",
   "execution_count": 27,
   "metadata": {},
   "outputs": [
    {
     "data": {
      "text/plain": [
       "['鉴于当代挑战和威胁的全球性质 要制定采取有效对策所需的集体办法',\n",
       " '集体安全条约组织 上海合作组织和独立国家联合体',\n",
       " '集体安全条约组织与联合国专门机构 包括安全理事会反恐怖主义委员会和联合国毒品和犯罪问题办公室',\n",
       " '集体安全条约组织是多层面结构 能对其成员国可能面临的当代广泛的挑战和威胁作出坚定回应',\n",
       " '集体安全条约组织正在积极促进帮助阿富汗进行冲突后重建以及消除来自该国的毒品威胁的国际努力 该组织与联合国的关系在许多领域都得到成功的发展',\n",
       " '集体安全条约组织秘书长博尔久扎 上海合作组织秘书长阿利莫夫以及独联体执行委员会副主席伊凡诺夫将发表讲话',\n",
       " '集体提出创新办法 嗣后可推广到安全理事会重点关注的世界其他地区',\n",
       " '非法贩运毒品以及确保国际信息安全 在此范畴内',\n",
       " '预防和解决冲突 反恐',\n",
       " 'ﬁnds emotion']"
      ]
     },
     "execution_count": 27,
     "metadata": {},
     "output_type": "execute_result"
    }
   ],
   "source": [
    "#Top 10 tfidf bigrams\n",
    "tfidf_vectorizer.get_feature_names()[-10:]"
   ]
  },
  {
   "cell_type": "code",
   "execution_count": 28,
   "metadata": {},
   "outputs": [],
   "source": [
    "#Confusion Matrix\n",
    "def plot_confusion_matrix(cm, classes,\n",
    "                          normalize=False,\n",
    "                          title='Confusion matrix',\n",
    "                          cmap=plt.cm.Blues):\n",
    "\n",
    "    plt.imshow(cm, interpolation='nearest', cmap=cmap)\n",
    "    plt.title(title)\n",
    "    plt.colorbar()\n",
    "    tick_marks = np.arange(len(classes))\n",
    "    plt.xticks([0, 1], classes, rotation=45)\n",
    "    plt.yticks([-0.5, 1.5], classes)\n",
    "\n",
    "    if normalize:\n",
    "        cm = cm.astype('float') / cm.sum(axis=1)[:, np.newaxis]\n",
    "        print(\"Normalized confusion matrix\")\n",
    "    else:\n",
    "        print('Confusion matrix')\n",
    "\n",
    "    thresh = cm.max() / 2.\n",
    "    for i, j in itertools.product(range(cm.shape[0]), range(cm.shape[1])):\n",
    "        plt.text(j, i, cm[i, j],\n",
    "                 horizontalalignment=\"center\",\n",
    "                 color=\"white\" if cm[i, j] > thresh else \"black\")\n",
    "\n",
    "    plt.tight_layout()\n",
    "    plt.ylabel('True label')\n",
    "    plt.xlabel('Predicted label')"
   ]
  },
  {
   "cell_type": "code",
   "execution_count": 29,
   "metadata": {},
   "outputs": [
    {
     "name": "stdout",
     "output_type": "stream",
     "text": [
      "Accuracy with MultinomialNB:   0.826\n"
     ]
    }
   ],
   "source": [
    "clf_MNB = MultinomialNB()\n",
    "clf_MNB.fit(tfidf1_train, Y_train)\n",
    "pickle.dump(clf_MNB, open('tfidf_nb','wb'))\n",
    "pred = clf_MNB.predict(tfidf1_test)\n",
    "score = metrics.accuracy_score(Y_test, pred)\n",
    "print(\"Accuracy with MultinomialNB:   %0.3f\" % score)  \n"
   ]
  },
  {
   "cell_type": "code",
   "execution_count": 30,
   "metadata": {},
   "outputs": [
    {
     "name": "stdout",
     "output_type": "stream",
     "text": [
      "Confusion matrix\n"
     ]
    },
    {
     "data": {
      "image/png": "[encoded data removed]",
      "text/plain": [
       "<Figure size 432x288 with 2 Axes>"
      ]
     },
     "metadata": {
      "needs_background": "light"
     },
     "output_type": "display_data"
    }
   ],
   "source": [
    "cm = metrics.confusion_matrix(Y_test, pred, labels=['FAKE', 'REAL'])\n",
    "plot_confusion_matrix(cm, classes=['FAKE', 'REAL'])"
   ]
  },
  {
   "cell_type": "code",
   "execution_count": 31,
   "metadata": {},
   "outputs": [
    {
     "name": "stderr",
     "output_type": "stream",
     "text": [
      "C:\\Users\\ojas\\Anaconda3\\Lib\\site-packages\\sklearn\\ensemble\\forest.py:245: FutureWarning: The default value of n_estimators will change from 10 in version 0.20 to 100 in 0.22.\n",
      "  \"10 in version 0.20 to 100 in 0.22.\", FutureWarning)\n"
     ]
    },
    {
     "name": "stdout",
     "output_type": "stream",
     "text": [
      "Accuracy with RandomForestClassifier:   0.890\n"
     ]
    }
   ],
   "source": [
    "clf_RFC = RandomForestClassifier()\n",
    "clf_RFC.fit(tfidf1_train, Y_train)\n",
    "pickle.dump(clf_RFC, open('tfidf_rf', 'wb'))\n",
    "pred = clf_RFC.predict(tfidf1_test)\n",
    "score = metrics.accuracy_score(Y_test, pred)\n",
    "print(\"Accuracy with RandomForestClassifier:   %0.3f\" % score)"
   ]
  },
  {
   "cell_type": "code",
   "execution_count": 32,
   "metadata": {},
   "outputs": [
    {
     "name": "stdout",
     "output_type": "stream",
     "text": [
      "(9196, 4027725)\n"
     ]
    }
   ],
   "source": [
    "print(tfidf1_test.shape)"
   ]
  },
  {
   "cell_type": "code",
   "execution_count": 33,
   "metadata": {},
   "outputs": [
    {
     "name": "stdout",
     "output_type": "stream",
     "text": [
      "Confusion matrix\n"
     ]
    },
    {
     "data": {
      "image/png": "[encoded data removed]",
      "text/plain": [
       "<Figure size 432x288 with 2 Axes>"
      ]
     },
     "metadata": {
      "needs_background": "light"
     },
     "output_type": "display_data"
    }
   ],
   "source": [
    "cm = metrics.confusion_matrix(Y_test, pred, labels=['FAKE', 'REAL'])\n",
    "plot_confusion_matrix(cm, classes=['FAKE', 'REAL'])"
   ]
  },
  {
   "cell_type": "code",
   "execution_count": 34,
   "metadata": {},
   "outputs": [
    {
     "name": "stdout",
     "output_type": "stream",
     "text": [
      "Accuracy with Gradient Boosting:   0.856\n"
     ]
    }
   ],
   "source": [
    "clf_GBC = GradientBoostingClassifier()\n",
    "clf_GBC.fit(tfidf1_train, Y_train)\n",
    "pickle.dump(clf_GBC, open('tfidf_gb', 'wb'))\n",
    "pred = clf_GBC.predict(tfidf1_test)\n",
    "score = metrics.accuracy_score(Y_test, pred)\n",
    "print(\"Accuracy with Gradient Boosting:   %0.3f\" % score)"
   ]
  },
  {
   "cell_type": "code",
   "execution_count": 35,
   "metadata": {},
   "outputs": [
    {
     "name": "stdout",
     "output_type": "stream",
     "text": [
      "Confusion matrix\n"
     ]
    },
    {
     "data": {
      "image/png": "[encoded data removed]",
      "text/plain": [
       "<Figure size 432x288 with 2 Axes>"
      ]
     },
     "metadata": {
      "needs_background": "light"
     },
     "output_type": "display_data"
    }
   ],
   "source": [
    "cm = metrics.confusion_matrix(Y_test, pred, labels=['FAKE', 'REAL'])\n",
    "plot_confusion_matrix(cm, classes=['FAKE', 'REAL'])"
   ]
  },
  {
   "cell_type": "code",
   "execution_count": 36,
   "metadata": {},
   "outputs": [
    {
     "name": "stdout",
     "output_type": "stream",
     "text": [
      "Accuracy with SVC:   0.939\n"
     ]
    }
   ],
   "source": [
    "clf_svm = svm.SVC(kernel='linear')\n",
    "clf_svm.fit(tfidf1_train, Y_train)\n",
    "pickle.dump(clf_svm, open('tfidf_svc', 'wb'))\n",
    "pred = clf_svm.predict(tfidf1_test)\n",
    "score = metrics.accuracy_score(Y_test, pred)\n",
    "print(\"Accuracy with SVC:   %0.3f\" % score)"
   ]
  },
  {
   "cell_type": "code",
   "execution_count": 37,
   "metadata": {},
   "outputs": [
    {
     "name": "stdout",
     "output_type": "stream",
     "text": [
      "Confusion matrix\n"
     ]
    },
    {
     "data": {
      "image/png": "[encoded data removed]",
      "text/plain": [
       "<Figure size 432x288 with 2 Axes>"
      ]
     },
     "metadata": {
      "needs_background": "light"
     },
     "output_type": "display_data"
    }
   ],
   "source": [
    "cm = metrics.confusion_matrix(Y_test, pred, labels=['FAKE', 'REAL'])\n",
    "plot_confusion_matrix(cm, classes=['FAKE', 'REAL'])"
   ]
  },
  {
   "cell_type": "code",
   "execution_count": 33,
   "metadata": {},
   "outputs": [
    {
     "name": "stdout",
     "output_type": "stream",
     "text": [
      "================================================================================\n",
      "RandomForestClassifier\n",
      "________________________________________________________________________________\n",
      "Training: RandomForestClassifier\n"
     ]
    },
    {
     "name": "stderr",
     "output_type": "stream",
     "text": [
      "C:\\Users\\ojas\\Anaconda3\\Lib\\site-packages\\sklearn\\ensemble\\forest.py:245: FutureWarning: The default value of n_estimators will change from 10 in version 0.20 to 100 in 0.22.\n",
      "  \"10 in version 0.20 to 100 in 0.22.\", FutureWarning)\n"
     ]
    },
    {
     "name": "stdout",
     "output_type": "stream",
     "text": [
      "train time: 58.294s\n",
      "test time:  1.117s\n",
      "accuracy:   0.884\n",
      "\n",
      "================================================================================\n",
      "Naive Bayes\n",
      "________________________________________________________________________________\n",
      "Training: Naive Bayes\n",
      "train time: 0.504s\n",
      "test time:  0.119s\n",
      "accuracy:   0.825\n",
      "\n",
      "================================================================================\n",
      "GradientBoosting\n",
      "________________________________________________________________________________\n",
      "Training: GradientBoosting\n",
      "train time: 969.108s\n",
      "test time:  0.163s\n",
      "accuracy:   0.849\n",
      "\n",
      "================================================================================\n",
      "SVC\n",
      "________________________________________________________________________________\n",
      "Training: SVC\n",
      "train time: 3096.760s\n",
      "test time:  358.090s\n",
      "accuracy:   0.940\n",
      "\n"
     ]
    },
    {
     "data": {
      "image/png": "[encoded data removed]",
      "text/plain": [
       "<Figure size 1152x864 with 1 Axes>"
      ]
     },
     "metadata": {
      "needs_background": "light"
     },
     "output_type": "display_data"
    }
   ],
   "source": [
    "import logging\n",
    "import sys\n",
    "from time import time\n",
    "def benchmark(clf,name):\n",
    "    print('_' * 80)\n",
    "    print(\"Training: \"+name)\n",
    "    t0 = time()\n",
    "    clf.fit(tfidf1_train, Y_train)\n",
    "    train_time = time() - t0\n",
    "    print(\"train time: %0.3fs\" % train_time)\n",
    "\n",
    "    t0 = time()\n",
    "    pred = clf.predict(tfidf1_test)\n",
    "    test_time = time() - t0\n",
    "    print(\"test time:  %0.3fs\" % test_time)\n",
    "\n",
    "    score = metrics.accuracy_score(Y_test, pred)\n",
    "    print(\"accuracy:   %0.3f\" % score)\n",
    "\n",
    "    print()\n",
    "    clf_descr = str(clf).split('(')[0]\n",
    "    return clf_descr, score, train_time, test_time\n",
    "\n",
    "\n",
    "results = []\n",
    "\n",
    "# Train Random Forest Classifier\n",
    "print('=' * 80)\n",
    "print(\"RandomForestClassifier\")\n",
    "results.append(benchmark(RandomForestClassifier(),\"RandomForestClassifier\"))\n",
    "\n",
    "# Train Naive Bayes classifier\n",
    "print('=' * 80)\n",
    "print(\"Naive Bayes\")\n",
    "results.append(benchmark(MultinomialNB(),\"Naive Bayes\"))\n",
    "\n",
    "# Train GradientBoosting Classifier\n",
    "print('=' * 80)\n",
    "print(\"GradientBoosting\")\n",
    "results.append(benchmark(GradientBoostingClassifier(),\"GradientBoosting\"))\n",
    "\n",
    "# Train SVC Classifier\n",
    "print('=' * 80)\n",
    "print(\"SVC\")\n",
    "results.append(benchmark(svm.SVC(kernel='linear'),\"SVC\"))\n",
    "\n",
    "indices = np.arange(len(results))\n",
    "\n",
    "results = [[x[i] for x in results] for i in range(4)]\n",
    "\n",
    "clf_names, score, training_time, test_time = results\n",
    "training_time = np.array(training_time) / np.max(training_time)\n",
    "test_time = np.array(test_time) / np.max(test_time)\n",
    "\n",
    "plt.figure(figsize=(16, 12))\n",
    "plt.title(\"Score\")\n",
    "plt.barh(indices, score, .2, label=\"score\", color='navy')\n",
    "plt.barh(indices + .3, training_time, .2, label=\"training time\",\n",
    "         color='c')\n",
    "plt.barh(indices + .6, test_time, .2, label=\"test time\", color='darkorange')\n",
    "plt.yticks(())\n",
    "plt.legend(loc='best')\n",
    "plt.subplots_adjust(left=.25)\n",
    "plt.subplots_adjust(top=.95)\n",
    "plt.subplots_adjust(bottom=.05)\n",
    "\n",
    "for i, c in zip(indices, clf_names):\n",
    "    plt.text(-.3, i, c)\n",
    "\n",
    "plt.show()"
   ]
  },
  {
   "cell_type": "code",
   "execution_count": 36,
   "metadata": {},
   "outputs": [
    {
     "data": {
      "text/plain": [
       "<matplotlib.legend.Legend at 0x18b671fec48>"
      ]
     },
     "execution_count": 36,
     "metadata": {},
     "output_type": "execute_result"
    },
    {
     "data": {
      "image/png": "[encoded data removed]",
      "text/plain": [
       "<Figure size 432x288 with 1 Axes>"
      ]
     },
     "metadata": {
      "needs_background": "light"
     },
     "output_type": "display_data"
    }
   ],
   "source": [
    "plt.figure(0).clf()\n",
    "\n",
    "for model, name in [(clf_MNB, 'Multinomial Naive Bayes '),\n",
    "                    (clf_RFC,'Random Forest Classifier'),(clf_GBC,'Gradient Boosting'),(clf_svm, 'Support Vector classifier')\n",
    "                     ]:\n",
    "    if name == 'Support Vector classifier':\n",
    "        pred = model.decision_function(tfidf1_test)\n",
    "    else:\n",
    "        pred = model.predict_proba(tfidf1_test)[:,1]\n",
    "    fpr, tpr, thresh = metrics.roc_curve(Y_test.values, pred, pos_label='REAL')\n",
    "    plt.plot(fpr,tpr,label=\"{}\".format(name))\n",
    "\n",
    "plt.legend(loc=0)"
   ]
  },
  {
   "cell_type": "code",
   "execution_count": 34,
   "metadata": {},
   "outputs": [
    {
     "name": "stdout",
     "output_type": "stream",
     "text": [
      "['FAKE']\n",
      "FAKE\n"
     ]
    }
   ],
   "source": [
    "#Predicting using SVM.\n",
    "st = pd.Series([\"Kayne West wins presidential elections.\"])\n",
    "my_headline = tfidf_vectorizer.transform(st.astype('str'))\n",
    "my_pred = clf_MNB.predict(my_headline)\n",
    "print(my_pred)\n",
    "for i in my_pred:\n",
    "    s = str(i)\n",
    "print(s)"
   ]
  },
  {
   "cell_type": "code",
   "execution_count": 63,
   "metadata": {},
   "outputs": [
    {
     "name": "stdout",
     "output_type": "stream",
     "text": [
      "['hi', '!', 'This', 'is', 'Ojas', '.']\n"
     ]
    }
   ],
   "source": [
    "#Testing Spacy\n",
    "nlp = spacy.load('en_core_web_sm')\n",
    "txt = ('hi! This is Ojas.')\n",
    "doc = nlp(txt)\n",
    "print([token.text for token in doc])"
   ]
  },
  {
   "cell_type": "code",
   "execution_count": null,
   "metadata": {},
   "outputs": [],
   "source": [
    "#Generating the POS tags for all the articles and adding a new column by replacing text with their POS tags\n",
    "nlp = spacy.load('en_core_web_sm')\n",
    "x = []\n",
    "df[\"Text\"] = df[\"Headline\"].map(str) + df[\"Body\"]\n",
    "for txt in df['Text']:\n",
    "    text_new = []\n",
    "    doc = nlp(str(txt))\n",
    "    for token in doc:\n",
    "        text_new.append(token.pos_)\n",
    "    Txt = ' '.join(text_new)\n",
    "    x.append(Txt)\n",
    "df['Text_pos'] = x\n",
    "df.to_pickle('newdata.pkl')"
   ]
  },
  {
   "cell_type": "code",
   "execution_count": 38,
   "metadata": {},
   "outputs": [],
   "source": [
    "df = pd.read_pickle('newdata.pkl')\n",
    "cnt = 0\n",
    "ind = []\n",
    "for article in df['Body']:\n",
    "    if len(str(article)) < 10:\n",
    "        ind.append(cnt)\n",
    "    cnt+=1\n",
    "df = df.drop(df.index[ind])"
   ]
  },
  {
   "cell_type": "code",
   "execution_count": 39,
   "metadata": {},
   "outputs": [
    {
     "data": {
      "text/plain": [
       "14388    PROPN PROPN PUNCT PRON AUX NOUN ADP DET NOUN A...\n",
       "12449    PROPN PROPN VERB ADP PROPN ADP PUNCT NUM PROPN...\n",
       "6273     PROPN PART NOUN PUNCT PUNCT DET NOUN ADP NOUN ...\n",
       "5017     PROPN NOUN VERB ADP PUNCT NOUN NOUN PROPN NOUN...\n",
       "24998    PROPN PROPN CCONJ PROPN PROPN PART PROPN PUNCT...\n",
       "                               ...                        \n",
       "7311     NOUN PUNCT PROPN CCONJ ADJ NOUN ADV PROPN ADP ...\n",
       "26840    PROPN PROPN ADP PUNCT PROPN PUNCT AUX VERB ADP...\n",
       "30922    ADP PROPN PROPN PART NOUN PUNCT PROPN PROPN VE...\n",
       "27436    DET PROPN ADP PROPN PROPN PROPN PROPN ADP PROP...\n",
       "19773    PROPN PROPN PROPN PROPN PROPN PROPN PART PROPN...\n",
       "Name: Text_pos, Length: 20755, dtype: object"
      ]
     },
     "execution_count": 39,
     "metadata": {},
     "output_type": "execute_result"
    }
   ],
   "source": [
    "y = df.Label\n",
    "y = y.astype('str')\n",
    "x_train, x_test, y_train, y_test = train_test_split(df['Text_pos'],y, test_size=0.33)\n",
    "x_train"
   ]
  },
  {
   "cell_type": "code",
   "execution_count": 40,
   "metadata": {},
   "outputs": [],
   "source": [
    "#Initialize the `tfidf_vectorizer` \n",
    "tfidf_vectorizer_pos = TfidfVectorizer(stop_words='english', ngram_range = (2,2)) \n",
    "# Fit and transform the training data \n",
    "tfidf_train = tfidf_vectorizer_pos.fit_transform(x_train.astype('str')) \n",
    "# Transform the test set \n",
    "tfidf_test = tfidf_vectorizer_pos.transform(x_test.astype('str'))\n",
    "\n",
    "#We use pickle so that we cana again use the model without running it again. Pickle stores the model\n",
    "#in memory which can be used later.\n",
    "\n",
    "pickle.dump(tfidf_train, open(\"tfidf_train.pickle\", \"wb\"))\n",
    "pickle.dump(tfidf_test, open(\"tfidf_test.pickle\", \"wb\"))\n",
    "pickle.dump(tfidf_vectorizer_pos, open(\"tfidf_vectorizer_pos.pickle\",\"wb\"))"
   ]
  },
  {
   "cell_type": "code",
   "execution_count": 41,
   "metadata": {},
   "outputs": [
    {
     "data": {
      "text/plain": [
       "['verb intj',\n",
       " 'verb noun',\n",
       " 'verb num',\n",
       " 'verb pron',\n",
       " 'verb propn',\n",
       " 'verb punct',\n",
       " 'verb sconj',\n",
       " 'verb space',\n",
       " 'verb sym',\n",
       " 'verb verb']"
      ]
     },
     "execution_count": 41,
     "metadata": {},
     "output_type": "execute_result"
    }
   ],
   "source": [
    "tfidf_vectorizer_pos.get_feature_names()[-10:]"
   ]
  },
  {
   "cell_type": "code",
   "execution_count": 42,
   "metadata": {},
   "outputs": [
    {
     "name": "stdout",
     "output_type": "stream",
     "text": [
      "Accuracy with Multinomial Naive Bayes:   0.787\n"
     ]
    }
   ],
   "source": [
    "clf_MNB_pos = MultinomialNB()\n",
    "clf_MNB_pos.fit(tfidf_train, y_train)\n",
    "pickle.dump(clf_MNB_pos, open('pos_nb', 'wb'))\n",
    "pred = clf_MNB_pos.predict(tfidf_test)\n",
    "score = metrics.accuracy_score(y_test, pred)\n",
    "print(\"Accuracy with Multinomial Naive Bayes:   %0.3f\" % score)"
   ]
  },
  {
   "cell_type": "code",
   "execution_count": 43,
   "metadata": {},
   "outputs": [
    {
     "name": "stdout",
     "output_type": "stream",
     "text": [
      "Confusion matrix\n"
     ]
    },
    {
     "data": {
      "image/png": "[encoded data removed]",
      "text/plain": [
       "<Figure size 432x288 with 2 Axes>"
      ]
     },
     "metadata": {
      "needs_background": "light"
     },
     "output_type": "display_data"
    }
   ],
   "source": [
    "cm = metrics.confusion_matrix(y_test, pred, labels=['FAKE', 'REAL'])\n",
    "plot_confusion_matrix(cm, classes=['FAKE', 'REAL'])"
   ]
  },
  {
   "cell_type": "code",
   "execution_count": 43,
   "metadata": {},
   "outputs": [
    {
     "name": "stderr",
     "output_type": "stream",
     "text": [
      "C:\\Users\\ojas\\Anaconda3\\Lib\\site-packages\\sklearn\\ensemble\\forest.py:245: FutureWarning: The default value of n_estimators will change from 10 in version 0.20 to 100 in 0.22.\n",
      "  \"10 in version 0.20 to 100 in 0.22.\", FutureWarning)\n"
     ]
    },
    {
     "name": "stdout",
     "output_type": "stream",
     "text": [
      "Accuracy with RandomForestClassifier:   0.870\n"
     ]
    }
   ],
   "source": [
    "clf_RFC_pos = RandomForestClassifier()\n",
    "clf_RFC_pos.fit(tfidf_train, y_train)\n",
    "pickle.dump(clf_RFC_pos, open('pos_rf', 'wb'))\n",
    "pred = clf_RFC_pos.predict(tfidf_test)\n",
    "score = metrics.accuracy_score(y_test, pred)\n",
    "print(\"Accuracy with RandomForestClassifier:   %0.3f\" % score)"
   ]
  },
  {
   "cell_type": "code",
   "execution_count": 44,
   "metadata": {},
   "outputs": [
    {
     "name": "stdout",
     "output_type": "stream",
     "text": [
      "Confusion matrix\n"
     ]
    },
    {
     "data": {
      "image/png": "[encoded data removed]",
      "text/plain": [
       "<Figure size 432x288 with 2 Axes>"
      ]
     },
     "metadata": {
      "needs_background": "light"
     },
     "output_type": "display_data"
    }
   ],
   "source": [
    "cm = metrics.confusion_matrix(y_test, pred, labels=['FAKE', 'REAL'])\n",
    "plot_confusion_matrix(cm, classes=['FAKE', 'REAL'])"
   ]
  },
  {
   "cell_type": "code",
   "execution_count": 45,
   "metadata": {},
   "outputs": [
    {
     "name": "stdout",
     "output_type": "stream",
     "text": [
      "Accuracy with Gradient Boosting:   0.880\n"
     ]
    }
   ],
   "source": [
    "clf_GBC_pos = GradientBoostingClassifier()\n",
    "clf_GBC_pos.fit(tfidf_train, y_train)\n",
    "pickle.dump(clf_GBC_pos, open('pos_gb', 'wb'))\n",
    "pred = clf_GBC_pos.predict(tfidf_test)\n",
    "score = metrics.accuracy_score(y_test, pred)\n",
    "print(\"Accuracy with Gradient Boosting:   %0.3f\" % score)"
   ]
  },
  {
   "cell_type": "code",
   "execution_count": 46,
   "metadata": {},
   "outputs": [
    {
     "name": "stdout",
     "output_type": "stream",
     "text": [
      "Confusion matrix\n"
     ]
    },
    {
     "data": {
      "image/png": "[encoded data removed]",
      "text/plain": [
       "<Figure size 432x288 with 2 Axes>"
      ]
     },
     "metadata": {
      "needs_background": "light"
     },
     "output_type": "display_data"
    }
   ],
   "source": [
    "cm = metrics.confusion_matrix(y_test, pred, labels=['FAKE', 'REAL'])\n",
    "plot_confusion_matrix(cm, classes=['FAKE', 'REAL'])"
   ]
  },
  {
   "cell_type": "code",
   "execution_count": 47,
   "metadata": {},
   "outputs": [
    {
     "name": "stdout",
     "output_type": "stream",
     "text": [
      "Accuracy with SVC:   0.836\n"
     ]
    }
   ],
   "source": [
    "clf_svm_pos = svm.SVC(kernel='linear')\n",
    "clf_svm_pos.fit(tfidf_train, y_train)\n",
    "pickle.dump(clf_svm_pos, open('pos_svc', 'wb'))\n",
    "pred = clf_svm_pos.predict(tfidf_test)\n",
    "score = metrics.accuracy_score(y_test, pred)\n",
    "print(\"Accuracy with SVC:   %0.3f\" % score)"
   ]
  },
  {
   "cell_type": "code",
   "execution_count": 48,
   "metadata": {},
   "outputs": [
    {
     "name": "stdout",
     "output_type": "stream",
     "text": [
      "Confusion matrix\n"
     ]
    },
    {
     "data": {
      "image/png": "[encoded data removed]",
      "text/plain": [
       "<Figure size 432x288 with 2 Axes>"
      ]
     },
     "metadata": {
      "needs_background": "light"
     },
     "output_type": "display_data"
    }
   ],
   "source": [
    "cm = metrics.confusion_matrix(y_test, pred, labels=['FAKE', 'REAL'])\n",
    "plot_confusion_matrix(cm, classes=['FAKE', 'REAL'])"
   ]
  },
  {
   "cell_type": "code",
   "execution_count": 49,
   "metadata": {},
   "outputs": [
    {
     "name": "stdout",
     "output_type": "stream",
     "text": [
      "================================================================================\n",
      "RandomForestClassifier\n",
      "________________________________________________________________________________\n",
      "Training: RandomForestClassifier\n"
     ]
    },
    {
     "name": "stderr",
     "output_type": "stream",
     "text": [
      "C:\\Users\\ojas\\Anaconda3\\Lib\\site-packages\\sklearn\\ensemble\\forest.py:245: FutureWarning: The default value of n_estimators will change from 10 in version 0.20 to 100 in 0.22.\n",
      "  \"10 in version 0.20 to 100 in 0.22.\", FutureWarning)\n"
     ]
    },
    {
     "name": "stdout",
     "output_type": "stream",
     "text": [
      "train time: 7.188s\n",
      "test time:  0.043s\n",
      "accuracy:   0.868\n",
      "\n",
      "================================================================================\n",
      "Naive Bayes\n",
      "________________________________________________________________________________\n",
      "Training: Naive Bayes\n",
      "train time: 0.130s\n",
      "test time:  0.012s\n",
      "accuracy:   0.795\n",
      "\n",
      "================================================================================\n",
      "GradientBoosting\n",
      "________________________________________________________________________________\n",
      "Training: GradientBoosting\n",
      "train time: 114.911s\n",
      "test time:  0.042s\n",
      "accuracy:   0.880\n",
      "\n",
      "================================================================================\n",
      "SVC\n",
      "________________________________________________________________________________\n",
      "Training: SVC\n",
      "train time: 248.897s\n",
      "test time:  103.520s\n",
      "accuracy:   0.836\n",
      "\n"
     ]
    },
    {
     "data": {
      "image/png": "[encoded data removed]",
      "text/plain": [
       "<Figure size 1152x864 with 1 Axes>"
      ]
     },
     "metadata": {
      "needs_background": "light"
     },
     "output_type": "display_data"
    }
   ],
   "source": [
    "import logging\n",
    "import sys\n",
    "from time import time\n",
    "def benchmark(clf,name):\n",
    "    print('_' * 80)\n",
    "    print(\"Training: \"+name)\n",
    "    t0 = time()\n",
    "    clf.fit(tfidf_train, y_train)\n",
    "    train_time = time() - t0\n",
    "    print(\"train time: %0.3fs\" % train_time)\n",
    "\n",
    "    t0 = time()\n",
    "    pred = clf.predict(tfidf_test)\n",
    "    test_time = time() - t0\n",
    "    print(\"test time:  %0.3fs\" % test_time)\n",
    "\n",
    "    score = metrics.accuracy_score(y_test, pred)\n",
    "    print(\"accuracy:   %0.3f\" % score)\n",
    "\n",
    "    print()\n",
    "    clf_descr = str(clf).split('(')[0]\n",
    "    return clf_descr, score, train_time, test_time\n",
    "\n",
    "\n",
    "results = []\n",
    "\n",
    "# Train Random Forest Classifier\n",
    "print('=' * 80)\n",
    "print(\"RandomForestClassifier\")\n",
    "results.append(benchmark(RandomForestClassifier(),\"RandomForestClassifier\"))\n",
    "\n",
    "# Train Naive Bayes classifier\n",
    "print('=' * 80)\n",
    "print(\"Naive Bayes\")\n",
    "results.append(benchmark(MultinomialNB(),\"Naive Bayes\"))\n",
    "\n",
    "# Train GradientBoosting Classifier\n",
    "print('=' * 80)\n",
    "print(\"GradientBoosting\")\n",
    "results.append(benchmark(GradientBoostingClassifier(),\"GradientBoosting\"))\n",
    "\n",
    "# Train SVC Classifier\n",
    "print('=' * 80)\n",
    "print(\"SVC\")\n",
    "results.append(benchmark(svm.SVC(kernel='linear'),\"SVC\"))\n",
    "\n",
    "indices = np.arange(len(results))\n",
    "\n",
    "results = [[x[i] for x in results] for i in range(4)]\n",
    "\n",
    "clf_names, score, training_time, test_time = results\n",
    "training_time = np.array(training_time) / np.max(training_time)\n",
    "test_time = np.array(test_time) / np.max(test_time)\n",
    "\n",
    "plt.figure(figsize=(16, 12))\n",
    "plt.title(\"Score\")\n",
    "plt.barh(indices, score, .2, label=\"score\", color='navy')\n",
    "plt.barh(indices + .3, training_time, .2, label=\"training time\",\n",
    "         color='c')\n",
    "plt.barh(indices + .6, test_time, .2, label=\"test time\", color='darkorange')\n",
    "plt.yticks(())\n",
    "plt.legend(loc='best')\n",
    "plt.subplots_adjust(left=.25)\n",
    "plt.subplots_adjust(top=.95)\n",
    "plt.subplots_adjust(bottom=.05)\n",
    "\n",
    "for i, c in zip(indices, clf_names):\n",
    "    plt.text(-.3, i, c)\n",
    "\n",
    "plt.show()"
   ]
  },
  {
   "cell_type": "code",
   "execution_count": 51,
   "metadata": {},
   "outputs": [
    {
     "data": {
      "text/plain": [
       "<matplotlib.legend.Legend at 0x18b64115a88>"
      ]
     },
     "execution_count": 51,
     "metadata": {},
     "output_type": "execute_result"
    },
    {
     "data": {
      "image/png": "[encoded data removed]",
      "text/plain": [
       "<Figure size 432x288 with 1 Axes>"
      ]
     },
     "metadata": {
      "needs_background": "light"
     },
     "output_type": "display_data"
    }
   ],
   "source": [
    "plt.figure(0).clf()\n",
    "for model, name in [(clf_MNB_pos, 'Multinomial Naive Bayes '),\n",
    "                    (clf_RFC_pos,'Random Forest Classifier'),(clf_GBC_pos,'Gradient Boosting'),(clf_svm_pos, 'Support Vector classifier')\n",
    "                     ]:\n",
    "    if name == 'Support Vector classifier':\n",
    "        pred = model.decision_function(tfidf_test)\n",
    "    else:\n",
    "        pred = model.predict_proba(tfidf_test)[:,1]\n",
    "    fpr, tpr, thresh = metrics.roc_curve(y_test.values, pred, pos_label='REAL')\n",
    "    plt.plot(fpr,tpr,label=\"{}\".format(name))\n",
    "\n",
    "plt.legend(loc=0)"
   ]
  },
  {
   "cell_type": "code",
   "execution_count": 59,
   "metadata": {},
   "outputs": [],
   "source": [
    "# #Predicting using SVM using POS tagging.\n",
    "# st = pd.Series([\"Kayne West wins presidential elections.\"])\n",
    "# my_headline = tfidf_vectorizer.transform(st.astype('str'))\n",
    "# my_pred = clf.predict(my_headline)\n",
    "# print(my_pred)"
   ]
  },
  {
   "cell_type": "code",
   "execution_count": 54,
   "metadata": {},
   "outputs": [],
   "source": [
    "#Merging the 2 analysis done above.\n",
    "\n",
    "tfidf_train_wt = tfidf_train\n",
    "tfidf_test_wt = tfidf_test\n",
    "tfidf1_train_wt = tfidf1_train\n",
    "tfidf1_test_wt = tfidf1_test\n",
    "\n",
    "#dif_row_tr is difference between no. of rows in syntax vector taining set and bigram vector training set.\n",
    "dif_rows_tr = tfidf_train_wt.shape[0] - tfidf1_train_wt.shape[0]\n",
    "X_ = sp.vstack((tfidf1_train_wt, sp.csr_matrix((dif_rows_tr, tfidf1_train_wt.shape[1]))))\n",
    "\n",
    "# merging the syntax vector taining set(POS tagging) and bigram vector(TF-IDF bigrams) training set.\n",
    "X_tr = sp.hstack((tfidf_train_wt, X_))\n",
    "\n",
    "#dif_row_ts is difference between no. of rows in syntax vector test set and bigram vector test set.\n",
    "dif_rows_ts = tfidf_test_wt.shape[0] - tfidf1_test_wt.shape[0]\n",
    "\n",
    "Y_ = sp.vstack((tfidf1_test_wt, sp.csr_matrix((dif_rows_ts, tfidf1_test_wt.shape[1])))) \n",
    "\n",
    "# merging the POS tagging test set and TF-IDF test set.\n",
    "X_ts = sp.hstack((tfidf_test_wt, Y_))\n",
    "\n",
    "# print(X.get_shape())\n",
    "# print(X_.get_shape())\n",
    "# print(tfidf_train.get_shape())\n",
    "# print(tfidf1_train.get_shape())\n",
    "# print(dif_rows_tr)"
   ]
  },
  {
   "cell_type": "code",
   "execution_count": 55,
   "metadata": {},
   "outputs": [
    {
     "name": "stdout",
     "output_type": "stream",
     "text": [
      "Accuracy with Multinomial Naive Bayes:   0.543\n"
     ]
    }
   ],
   "source": [
    "clf_MNB_tp = MultinomialNB()\n",
    "clf_MNB_tp.fit(X_tr, y_train)\n",
    "pickle.dump(clf_MNB_tp, open('tp_nb', 'wb'))\n",
    "pred = clf_MNB_tp.predict(X_ts)\n",
    "score = metrics.accuracy_score(y_test, pred)\n",
    "print(\"Accuracy with Multinomial Naive Bayes:   %0.3f\" % score)"
   ]
  },
  {
   "cell_type": "code",
   "execution_count": 56,
   "metadata": {},
   "outputs": [
    {
     "name": "stdout",
     "output_type": "stream",
     "text": [
      "Confusion matrix\n"
     ]
    },
    {
     "data": {
      "image/png": "[encoded data removed]",
      "text/plain": [
       "<Figure size 432x288 with 2 Axes>"
      ]
     },
     "metadata": {
      "needs_background": "light"
     },
     "output_type": "display_data"
    }
   ],
   "source": [
    "cm = metrics.confusion_matrix(y_test, pred, labels=['FAKE', 'REAL'])\n",
    "plot_confusion_matrix(cm, classes=['FAKE', 'REAL'])"
   ]
  },
  {
   "cell_type": "code",
   "execution_count": 57,
   "metadata": {},
   "outputs": [
    {
     "name": "stderr",
     "output_type": "stream",
     "text": [
      "C:\\Users\\ojas\\Anaconda3\\Lib\\site-packages\\sklearn\\ensemble\\forest.py:245: FutureWarning: The default value of n_estimators will change from 10 in version 0.20 to 100 in 0.22.\n",
      "  \"10 in version 0.20 to 100 in 0.22.\", FutureWarning)\n"
     ]
    },
    {
     "name": "stdout",
     "output_type": "stream",
     "text": [
      "Accuracy with RandomForestClassifier:   0.739\n"
     ]
    }
   ],
   "source": [
    "clf_RFC_tp = RandomForestClassifier()\n",
    "clf_RFC_tp.fit(X_tr, y_train)\n",
    "pickle.dump(clf_RFC_tp, open('tp_rf', 'wb'))\n",
    "pred = clf_RFC_tp.predict(X_ts)\n",
    "score = metrics.accuracy_score(y_test, pred)\n",
    "print(\"Accuracy with RandomForestClassifier:   %0.3f\" % score)"
   ]
  },
  {
   "cell_type": "code",
   "execution_count": 58,
   "metadata": {},
   "outputs": [
    {
     "name": "stdout",
     "output_type": "stream",
     "text": [
      "Confusion matrix\n"
     ]
    },
    {
     "data": {
      "image/png": "[encoded data removed]",
      "text/plain": [
       "<Figure size 432x288 with 2 Axes>"
      ]
     },
     "metadata": {
      "needs_background": "light"
     },
     "output_type": "display_data"
    }
   ],
   "source": [
    "cm = metrics.confusion_matrix(y_test, pred, labels=['FAKE', 'REAL'])\n",
    "plot_confusion_matrix(cm, classes=['FAKE', 'REAL'])"
   ]
  },
  {
   "cell_type": "code",
   "execution_count": 60,
   "metadata": {},
   "outputs": [
    {
     "name": "stdout",
     "output_type": "stream",
     "text": [
      "Accuracy with Gradient Boosting:   0.879\n"
     ]
    }
   ],
   "source": [
    "clf_GBC_tp = GradientBoostingClassifier()\n",
    "clf_GBC_tp.fit(X_tr, y_train)\n",
    "pickle.dump(clf_GBC_tp, open('tp_gb', 'wb'))\n",
    "pred = clf_GBC_tp.predict(X_ts)\n",
    "score = metrics.accuracy_score(y_test, pred)\n",
    "print(\"Accuracy with Gradient Boosting:   %0.3f\" % score)"
   ]
  },
  {
   "cell_type": "code",
   "execution_count": 61,
   "metadata": {},
   "outputs": [
    {
     "name": "stdout",
     "output_type": "stream",
     "text": [
      "Confusion matrix\n"
     ]
    },
    {
     "data": {
      "image/png": "[encoded data removed]",
      "text/plain": [
       "<Figure size 432x288 with 2 Axes>"
      ]
     },
     "metadata": {
      "needs_background": "light"
     },
     "output_type": "display_data"
    }
   ],
   "source": [
    "cm = metrics.confusion_matrix(y_test, pred, labels=['FAKE', 'REAL'])\n",
    "plot_confusion_matrix(cm, classes=['FAKE', 'REAL'])"
   ]
  },
  {
   "cell_type": "code",
   "execution_count": 62,
   "metadata": {},
   "outputs": [
    {
     "name": "stdout",
     "output_type": "stream",
     "text": [
      "Accuracy with SVC:   0.829\n"
     ]
    }
   ],
   "source": [
    "clf_svm_tp = svm.SVC(kernel='linear')\n",
    "clf_svm_tp.fit(X_tr, y_train)\n",
    "pickle.dump(clf_svm_tp, open('tp_svc', 'wb'))\n",
    "pred = clf_svm_tp.predict(X_ts)\n",
    "score = metrics.accuracy_score(y_test, pred)\n",
    "print(\"Accuracy with SVC:   %0.3f\" % score)"
   ]
  },
  {
   "cell_type": "code",
   "execution_count": 63,
   "metadata": {},
   "outputs": [
    {
     "name": "stdout",
     "output_type": "stream",
     "text": [
      "Confusion matrix\n"
     ]
    },
    {
     "data": {
      "image/png": "[encoded data removed]",
      "text/plain": [
       "<Figure size 432x288 with 2 Axes>"
      ]
     },
     "metadata": {
      "needs_background": "light"
     },
     "output_type": "display_data"
    }
   ],
   "source": [
    "cm = metrics.confusion_matrix(y_test, pred, labels=['FAKE', 'REAL'])\n",
    "plot_confusion_matrix(cm, classes=['FAKE', 'REAL'])"
   ]
  },
  {
   "cell_type": "code",
   "execution_count": 65,
   "metadata": {},
   "outputs": [
    {
     "name": "stdout",
     "output_type": "stream",
     "text": [
      "================================================================================\n",
      "RandomForestClassifier\n",
      "________________________________________________________________________________\n",
      "Training: RandomForestClassifier\n"
     ]
    },
    {
     "name": "stderr",
     "output_type": "stream",
     "text": [
      "C:\\Users\\ojas\\Anaconda3\\Lib\\site-packages\\sklearn\\ensemble\\forest.py:245: FutureWarning: The default value of n_estimators will change from 10 in version 0.20 to 100 in 0.22.\n",
      "  \"10 in version 0.20 to 100 in 0.22.\", FutureWarning)\n"
     ]
    },
    {
     "name": "stdout",
     "output_type": "stream",
     "text": [
      "train time: 86.409s\n",
      "test time:  0.981s\n",
      "accuracy:   0.761\n",
      "\n",
      "================================================================================\n",
      "Naive Bayes\n",
      "________________________________________________________________________________\n",
      "Training: Naive Bayes\n",
      "train time: 1.399s\n",
      "test time:  0.229s\n",
      "accuracy:   0.543\n",
      "\n",
      "================================================================================\n",
      "GradientBoosting\n",
      "________________________________________________________________________________\n",
      "Training: GradientBoosting\n",
      "train time: 1169.017s\n",
      "test time:  0.312s\n",
      "accuracy:   0.881\n",
      "\n",
      "================================================================================\n",
      "SVC\n",
      "________________________________________________________________________________\n",
      "Training: SVC\n",
      "train time: 3315.800s\n",
      "test time:  417.758s\n",
      "accuracy:   0.829\n",
      "\n"
     ]
    },
    {
     "data": {
      "image/png": "[encoded data removed]",
      "text/plain": [
       "<Figure size 1152x864 with 1 Axes>"
      ]
     },
     "metadata": {
      "needs_background": "light"
     },
     "output_type": "display_data"
    }
   ],
   "source": [
    "import logging\n",
    "import sys\n",
    "from time import time\n",
    "def benchmark(clf,name):\n",
    "    print('_' * 80)\n",
    "    print(\"Training: \"+name)\n",
    "    t0 = time()\n",
    "    clf.fit(X_tr, y_train)\n",
    "    train_time = time() - t0\n",
    "    print(\"train time: %0.3fs\" % train_time)\n",
    "\n",
    "    t0 = time()\n",
    "    pred = clf.predict(X_ts)\n",
    "    test_time = time() - t0\n",
    "    print(\"test time:  %0.3fs\" % test_time)\n",
    "\n",
    "    score = metrics.accuracy_score(y_test, pred)\n",
    "    print(\"accuracy:   %0.3f\" % score)\n",
    "\n",
    "    print()\n",
    "    clf_descr = str(clf).split('(')[0]\n",
    "    return clf_descr, score, train_time, test_time\n",
    "\n",
    "\n",
    "results = []\n",
    "\n",
    "# Train Random Forest Classifier\n",
    "print('=' * 80)\n",
    "print(\"RandomForestClassifier\")\n",
    "results.append(benchmark(RandomForestClassifier(),\"RandomForestClassifier\"))\n",
    "\n",
    "# Train Naive Bayes classifier\n",
    "print('=' * 80)\n",
    "print(\"Naive Bayes\")\n",
    "results.append(benchmark(MultinomialNB(),\"Naive Bayes\"))\n",
    "\n",
    "# Train GradientBoosting Classifier\n",
    "print('=' * 80)\n",
    "print(\"GradientBoosting\")\n",
    "results.append(benchmark(GradientBoostingClassifier(),\"GradientBoosting\"))\n",
    "\n",
    "# Train SVC Classifier\n",
    "print('=' * 80)\n",
    "print(\"SVC\")\n",
    "results.append(benchmark(svm.SVC(kernel='linear'),\"SVC\"))\n",
    "\n",
    "indices = np.arange(len(results))\n",
    "\n",
    "results = [[x[i] for x in results] for i in range(4)]\n",
    "\n",
    "clf_names, score, training_time, test_time = results\n",
    "training_time = np.array(training_time) / np.max(training_time)\n",
    "test_time = np.array(test_time) / np.max(test_time)\n",
    "\n",
    "plt.figure(figsize=(16, 12))\n",
    "plt.title(\"Score\")\n",
    "plt.barh(indices, score, .2, label=\"score\", color='navy')\n",
    "plt.barh(indices + .3, training_time, .2, label=\"training time\",\n",
    "         color='c')\n",
    "plt.barh(indices + .6, test_time, .2, label=\"test time\", color='darkorange')\n",
    "plt.yticks(())\n",
    "plt.legend(loc='best')\n",
    "plt.subplots_adjust(left=.25)\n",
    "plt.subplots_adjust(top=.95)\n",
    "plt.subplots_adjust(bottom=.05)\n",
    "\n",
    "for i, c in zip(indices, clf_names):\n",
    "    plt.text(-.3, i, c)\n",
    "\n",
    "plt.show()"
   ]
  },
  {
   "cell_type": "code",
   "execution_count": 66,
   "metadata": {},
   "outputs": [
    {
     "data": {
      "text/plain": [
       "<matplotlib.legend.Legend at 0x18b63cec8c8>"
      ]
     },
     "execution_count": 66,
     "metadata": {},
     "output_type": "execute_result"
    },
    {
     "data": {
      "image/png": "[encoded data removed]",
      "text/plain": [
       "<Figure size 432x288 with 1 Axes>"
      ]
     },
     "metadata": {
      "needs_background": "light"
     },
     "output_type": "display_data"
    }
   ],
   "source": [
    "plt.figure(0).clf()\n",
    "\n",
    "for model, name in [(clf_MNB_tp, 'Multinomial Naive Bayes '),\n",
    "                    (clf_RFC_tp,'Random Forest Classifier'),(clf_GBC_tp,'Gradient Boosting'),(clf_svm_tp, 'Support Vector classifier')\n",
    "                     ]:\n",
    "    if name == 'Support Vector classifier':\n",
    "        pred = model.decision_function(X_ts)\n",
    "    else:\n",
    "        pred = model.predict_proba(X_ts)[:,1]\n",
    "    fpr, tpr, thresh = metrics.roc_curve(y_test.values, pred, pos_label='REAL')\n",
    "    plt.plot(fpr,tpr,label=\"{}\".format(name))\n",
    "\n",
    "plt.legend(loc=0)"
   ]
  },
  {
   "cell_type": "code",
   "execution_count": null,
   "metadata": {},
   "outputs": [],
   "source": []
  }
 ],
 "metadata": {
  "kernelspec": {
   "display_name": "Python [conda env:root] *",
   "language": "python",
   "name": "conda-root-py"
  },
  "language_info": {
   "codemirror_mode": {
    "name": "ipython",
    "version": 3
   },
   "file_extension": ".py",
   "mimetype": "text/x-python",
   "name": "python",
   "nbconvert_exporter": "python",
   "pygments_lexer": "ipython3",
   "version": "3.7.4"
  }
 },
 "nbformat": 4,
 "nbformat_minor": 2
}
